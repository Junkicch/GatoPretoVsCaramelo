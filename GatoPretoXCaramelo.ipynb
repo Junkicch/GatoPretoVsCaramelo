{
  "nbformat": 4,
  "nbformat_minor": 0,
  "metadata": {
    "colab": {
      "provenance": [],
      "authorship_tag": "ABX9TyPc3KDzPNSkFu3HThB/1NBK",
      "include_colab_link": true
    },
    "kernelspec": {
      "name": "python3",
      "display_name": "Python 3"
    },
    "language_info": {
      "name": "python"
    }
  },
  "cells": [
    {
      "cell_type": "markdown",
      "metadata": {
        "id": "view-in-github",
        "colab_type": "text"
      },
      "source": [
        "<a href=\"https://colab.research.google.com/github/Junkicch/GatoPretoVsCaramelo/blob/main/GatoPretoXCaramelo.ipynb\" target=\"_parent\"><img src=\"https://colab.research.google.com/assets/colab-badge.svg\" alt=\"Open In Colab\"/></a>"
      ]
    },
    {
      "cell_type": "code",
      "execution_count": null,
      "metadata": {
        "id": "U6LCs4od_N3U"
      },
      "outputs": [],
      "source": [
        "%matplotlib inline\n",
        "\n",
        "import os\n",
        "os.environ[\"KERAS_BACKEND\"] = \"tensorflow\"\n",
        "import tensorflow as tf\n",
        "import tensorflow_datasets as tfds\n",
        "import matplotlib.pyplot as plt\n",
        "import matplotlib.image as mpimg\n",
        "import numpy as np"
      ]
    },
    {
      "cell_type": "code",
      "source": [
        "(train_ds, val_ds), ds_info = tfds.load(\n",
        "    \"cats_vs_dogs\",\n",
        "    split=[\"train[:80%]\", \"train[80%:]\"],\n",
        "    as_supervised=True,\n",
        "    with_info=True\n",
        ")"
      ],
      "metadata": {
        "id": "uhi9BTWxCg4G"
      },
      "execution_count": null,
      "outputs": []
    },
    {
      "cell_type": "code",
      "source": [
        "IMG_SIZE = 160\n",
        "\n",
        "def format_image(image, label):\n",
        "    image = tf.cast(image, tf.float32)\n",
        "    image = tf.image.resize(image, (IMG_SIZE, IMG_SIZE))\n",
        "    image = image / 255.0\n",
        "    return image, label\n",
        "\n",
        "train_ds = train_ds.map(format_image).shuffle(1000).batch(32).prefetch(tf.data.AUTOTUNE)\n",
        "val_ds = val_ds.map(format_image).batch(32).prefetch(tf.data.AUTOTUNE)"
      ],
      "metadata": {
        "id": "i68sUeYTDGZa"
      },
      "execution_count": null,
      "outputs": []
    },
    {
      "cell_type": "code",
      "source": [
        "base_model = tf.keras.applications.MobileNetV2(\n",
        "    input_shape=(IMG_SIZE, IMG_SIZE, 3),\n",
        "    include_top=False,\n",
        "    weights=\"imagenet\"\n",
        ")\n",
        "\n",
        "base_model.trainable = False"
      ],
      "metadata": {
        "id": "kdpkI9u1DMHZ"
      },
      "execution_count": null,
      "outputs": []
    },
    {
      "cell_type": "code",
      "source": [
        "global_avg = tf.keras.layers.GlobalAveragePooling2D()\n",
        "output_layer = tf.keras.layers.Dense(1, activation=\"sigmoid\")\n",
        "\n",
        "model = tf.keras.Sequential([\n",
        "    base_model,\n",
        "    global_avg,\n",
        "    output_layer\n",
        "])"
      ],
      "metadata": {
        "id": "CZeaiEYRDYvQ"
      },
      "execution_count": null,
      "outputs": []
    },
    {
      "cell_type": "code",
      "source": [
        "model.compile(\n",
        "    optimizer=tf.keras.optimizers.Adam(learning_rate=0.0001),\n",
        "    loss=\"binary_crossentropy\",\n",
        "    metrics=[\"accuracy\"]\n",
        ")"
      ],
      "metadata": {
        "id": "AkWBCTmcDc0A"
      },
      "execution_count": null,
      "outputs": []
    },
    {
      "cell_type": "code",
      "source": [
        "history = model.fit(\n",
        "    train_ds,\n",
        "    epochs=5,\n",
        "    validation_data=val_ds\n",
        ")"
      ],
      "metadata": {
        "id": "wdHLGY-wDgo5"
      },
      "execution_count": null,
      "outputs": []
    },
    {
      "cell_type": "code",
      "source": [
        "base_model.trainable = True\n",
        "fine_tune_at = 100\n",
        "for layer in base_model.layers[:fine_tune_at]:\n",
        "    layer.trainable = False\n",
        "\n",
        "model.compile(\n",
        "    optimizer=tf.keras.optimizers.Adam(learning_rate=0.00001),\n",
        "    loss=\"binary_crossentropy\",\n",
        "    metrics=[\"accuracy\"]\n",
        ")\n",
        "\n",
        "history_fine = model.fit(\n",
        "    train_ds,\n",
        "    epochs=5,\n",
        "    validation_data=val_ds\n",
        ")"
      ],
      "metadata": {
        "id": "qn9O2dBnN-Wh"
      },
      "execution_count": null,
      "outputs": []
    },
    {
      "cell_type": "code",
      "source": [
        "loss, acc = model.evaluate(val_ds)\n",
        "print(f\"Val Loss: {loss:.4f} | Val Accuracy: {acc:.4f}\")"
      ],
      "metadata": {
        "id": "IC6OJY2_esWB"
      },
      "execution_count": null,
      "outputs": []
    },
    {
      "cell_type": "code",
      "source": [
        "acc_all = history.history['accuracy'] + history_fine.history['accuracy']\n",
        "val_acc_all = history.history['val_accuracy'] + history_fine.history['val_accuracy']\n",
        "\n",
        "plt.plot(acc_all, label=\"Treino\")\n",
        "plt.plot(val_acc_all, label=\"Validação\")\n",
        "plt.xlabel(\"Épocas\")\n",
        "plt.ylabel(\"Acurácia\")\n",
        "plt.legend()\n",
        "plt.show()"
      ],
      "metadata": {
        "id": "qyl9yiABetDd"
      },
      "execution_count": null,
      "outputs": []
    },
    {
      "cell_type": "code",
      "source": [
        "\n",
        "\n",
        "\n",
        "img_path = \"./image/2000px.webp\"\n",
        "\n",
        "img = tf.keras.preprocessing.image.load_img(img_path, target_size=(IMG_SIZE, IMG_SIZE))\n",
        "\n",
        "img_array = tf.keras.preprocessing.image.img_to_array(img) / 255.0\n",
        "img_array = np.expand_dims(img_array, axis=0)\n",
        "\n",
        "pred = model.predict(img_array)\n",
        "\n",
        "if pred[0][0] > 0.5:\n",
        "    print(f\"É um cachorro 🐶 (confiança {pred[0][0]*100:.2f}%)\")\n",
        "else:\n",
        "    print(f\"É um gato 🐱 (confiança {(1-pred[0][0])*100:.2f}%)\")\n",
        "\n",
        "\n",
        "\n",
        "\n",
        "img = mpimg.imread(img_path)\n",
        "plt.imshow(img)\n",
        "plt.axis(\"off\")\n",
        "plt.title(\"Cachorro 🐶\" if pred[0][0] > 0.5 else \"Gato 🐱\")\n",
        "plt.show()\n"
      ],
      "metadata": {
        "id": "0TYBvEzDfjD0"
      },
      "execution_count": null,
      "outputs": []
    }
  ]
}